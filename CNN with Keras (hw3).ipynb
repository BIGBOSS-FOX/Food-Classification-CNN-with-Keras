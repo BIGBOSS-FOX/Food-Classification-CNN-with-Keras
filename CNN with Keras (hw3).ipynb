{
 "cells": [
  {
   "cell_type": "code",
   "execution_count": 2,
   "metadata": {},
   "outputs": [],
   "source": [
    "# # Unzip data\n",
    "# import zipfile\n",
    "# with zipfile.ZipFile(r\"C:\\Users\\ChenDaoYuan\\Desktop\\2018-2020 SIT CS master\\self study\\ML DL\\data\\hw3\\food-11.zip\", 'r') as zip_ref:\n",
    "#     zip_ref.extractall(r\"C:\\Users\\ChenDaoYuan\\Desktop\\2018-2020 SIT CS master\\self study\\ML DL\\CNN\\Data\")"
   ]
  },
  {
   "cell_type": "code",
   "execution_count": 1,
   "metadata": {},
   "outputs": [],
   "source": [
    "import os\n",
    "import shutil\n",
    "import numpy as np\n",
    "import cv2\n",
    "import pandas as pd"
   ]
  },
  {
   "cell_type": "code",
   "execution_count": 3,
   "metadata": {},
   "outputs": [],
   "source": [
    "# Try os\n",
    "\n",
    "cur_dir = os.getcwd()\n",
    "train_path = os.path.join(cur_dir, 'Data/food-11/training')\n",
    "val_path = os.path.join(cur_dir, 'Data/food-11/validation')\n",
    "test_path = os.path.join(cur_dir, 'Data/food-11/testing')\n",
    "train_imgs = sorted(os.listdir(train_path))\n",
    "val_imgs = sorted(os.listdir(val_path))"
   ]
  },
  {
   "cell_type": "code",
   "execution_count": 11,
   "metadata": {},
   "outputs": [],
   "source": [
    "# # Create subfolder for each class\n",
    "\n",
    "# train_classes = []\n",
    "# val_classes = []\n",
    "# for i, file in enumerate(train_imgs):\n",
    "#     train_classes.append(int(file.split(\"_\")[0]))\n",
    "# train_classes = list(set(train_classes))\n",
    "\n",
    "# for i, file in enumerate(val_imgs):\n",
    "#     val_classes.append(int(file.split(\"_\")[0]))\n",
    "# val_classes = list(set(val_classes))\n",
    "# # print(val_classes)\n",
    "\n",
    "# for name in train_classes:\n",
    "#     os.mkdir(train_path + '\\\\' + str(name))\n",
    "    \n",
    "# for name in val_classes:\n",
    "#     os.mkdir(val_path + '\\\\' + str(name))\n",
    "    "
   ]
  },
  {
   "cell_type": "code",
   "execution_count": 13,
   "metadata": {},
   "outputs": [],
   "source": [
    "# # Move images into class folders\n",
    "# for file in train_imgs:\n",
    "#     if int(file.split(\"_\")[0]) == 0:\n",
    "#         shutil.move(train_path + '\\\\' + file, train_path + '\\\\0\\\\' + file)\n",
    "#     elif int(file.split(\"_\")[0]) == 1:\n",
    "#         shutil.move(train_path + '\\\\' + file, train_path + '\\\\1\\\\' + file)\n",
    "#     elif int(file.split(\"_\")[0]) == 2:\n",
    "#         shutil.move(train_path + '\\\\' + file, train_path + '\\\\2\\\\' + file)\n",
    "#     elif int(file.split(\"_\")[0]) == 3:\n",
    "#         shutil.move(train_path + '\\\\' + file, train_path + '\\\\3\\\\' + file)\n",
    "#     elif int(file.split(\"_\")[0]) == 4:\n",
    "#         shutil.move(train_path + '\\\\' + file, train_path + '\\\\4\\\\' + file)\n",
    "#     elif int(file.split(\"_\")[0]) == 5:\n",
    "#         shutil.move(train_path + '\\\\' + file, train_path + '\\\\5\\\\' + file)\n",
    "#     elif int(file.split(\"_\")[0]) == 6:\n",
    "#         shutil.move(train_path + '\\\\' + file, train_path + '\\\\6\\\\' + file)\n",
    "#     elif int(file.split(\"_\")[0]) == 7:\n",
    "#         shutil.move(train_path + '\\\\' + file, train_path + '\\\\7\\\\' + file)\n",
    "#     elif int(file.split(\"_\")[0]) == 8:\n",
    "#         shutil.move(train_path + '\\\\' + file, train_path + '\\\\8\\\\' + file)\n",
    "#     elif int(file.split(\"_\")[0]) == 9:\n",
    "#         shutil.move(train_path + '\\\\' + file, train_path + '\\\\9\\\\' + file)\n",
    "#     else:\n",
    "#         shutil.move(train_path + '\\\\' + file, train_path + '\\\\10\\\\' + file)\n",
    "\n",
    "# for file in val_imgs:\n",
    "#     if int(file.split(\"_\")[0]) == 0:\n",
    "#         shutil.move(val_path + '\\\\' + file, val_path + '\\\\0\\\\' + file)\n",
    "#     elif int(file.split(\"_\")[0]) == 1:\n",
    "#         shutil.move(val_path + '\\\\' + file, val_path + '\\\\1\\\\' + file)\n",
    "#     elif int(file.split(\"_\")[0]) == 2:\n",
    "#         shutil.move(val_path + '\\\\' + file, val_path + '\\\\2\\\\' + file)\n",
    "#     elif int(file.split(\"_\")[0]) == 3:\n",
    "#         shutil.move(val_path + '\\\\' + file, val_path + '\\\\3\\\\' + file)\n",
    "#     elif int(file.split(\"_\")[0]) == 4:\n",
    "#         shutil.move(val_path + '\\\\' + file, val_path + '\\\\4\\\\' + file)\n",
    "#     elif int(file.split(\"_\")[0]) == 5:\n",
    "#         shutil.move(val_path + '\\\\' + file, val_path + '\\\\5\\\\' + file)\n",
    "#     elif int(file.split(\"_\")[0]) == 6:\n",
    "#         shutil.move(val_path + '\\\\' + file, val_path + '\\\\6\\\\' + file)\n",
    "#     elif int(file.split(\"_\")[0]) == 7:\n",
    "#         shutil.move(val_path + '\\\\' + file, val_path + '\\\\7\\\\' + file)\n",
    "#     elif int(file.split(\"_\")[0]) == 8:\n",
    "#         shutil.move(val_path + '\\\\' + file, val_path + '\\\\8\\\\' + file)\n",
    "#     elif int(file.split(\"_\")[0]) == 9:\n",
    "#         shutil.move(val_path + '\\\\' + file, val_path + '\\\\9\\\\' + file)\n",
    "#     else:\n",
    "#         shutil.move(val_path + '\\\\' + file, val_path + '\\\\10\\\\' + file)"
   ]
  },
  {
   "cell_type": "code",
   "execution_count": 4,
   "metadata": {},
   "outputs": [
    {
     "name": "stderr",
     "output_type": "stream",
     "text": [
      "Using TensorFlow backend.\n"
     ]
    },
    {
     "name": "stdout",
     "output_type": "stream",
     "text": [
      "Found 9866 images belonging to 11 classes.\n",
      "Found 3430 images belonging to 11 classes.\n"
     ]
    }
   ],
   "source": [
    "from keras.preprocessing.image import ImageDataGenerator\n",
    "\n",
    "# All images will be rescaled by 1./255\n",
    "train_datagen = ImageDataGenerator(\n",
    "    rescale=1./255,\n",
    "    shear_range=0.2,\n",
    "    zoom_range=0.2,\n",
    "    horizontal_flip=True\n",
    ")\n",
    "val_datagen = ImageDataGenerator(rescale=1./255)\n",
    "\n",
    "train_generator = train_datagen.flow_from_directory(\n",
    "    # This is the target directory\n",
    "    train_path,\n",
    "#     classes = train_y,\n",
    "    # All images will be resized to 128x128\n",
    "    target_size= (128, 128),\n",
    "    batch_size= 20,\n",
    "    # Since we use categorical_crossentropy loss, we need categorical labels\n",
    "    class_mode='categorical'\n",
    ")\n",
    "\n",
    "val_generator = val_datagen.flow_from_directory(\n",
    "    # This is the target directory\n",
    "    val_path,\n",
    "#     classes = val_y,\n",
    "    # All images will be resized to 128x128\n",
    "    target_size= (128, 128),\n",
    "    batch_size= 20,\n",
    "    # Since we use categorical_crossentropy loss, we need categorical labels\n",
    "    class_mode='categorical'\n",
    ")\n",
    "\n",
    "\n",
    "\n",
    "\n"
   ]
  },
  {
   "cell_type": "code",
   "execution_count": 5,
   "metadata": {},
   "outputs": [
    {
     "name": "stdout",
     "output_type": "stream",
     "text": [
      "data batch shape: (20, 128, 128, 3)\n",
      "labels batch shape: (20, 11)\n"
     ]
    }
   ],
   "source": [
    "for data_batch, labels_batch in train_generator:\n",
    "    print('data batch shape:', data_batch.shape)\n",
    "    print('labels batch shape:', labels_batch.shape)\n",
    "    break"
   ]
  },
  {
   "cell_type": "code",
   "execution_count": 8,
   "metadata": {},
   "outputs": [
    {
     "name": "stdout",
     "output_type": "stream",
     "text": [
      "Model: \"sequential_3\"\n",
      "_________________________________________________________________\n",
      "Layer (type)                 Output Shape              Param #   \n",
      "=================================================================\n",
      "conv2d_5 (Conv2D)            (None, 126, 126, 32)      896       \n",
      "_________________________________________________________________\n",
      "max_pooling2d_5 (MaxPooling2 (None, 63, 63, 32)        0         \n",
      "_________________________________________________________________\n",
      "conv2d_6 (Conv2D)            (None, 61, 61, 64)        18496     \n",
      "_________________________________________________________________\n",
      "max_pooling2d_6 (MaxPooling2 (None, 30, 30, 64)        0         \n",
      "_________________________________________________________________\n",
      "flatten_3 (Flatten)          (None, 57600)             0         \n",
      "_________________________________________________________________\n",
      "dropout_2 (Dropout)          (None, 57600)             0         \n",
      "_________________________________________________________________\n",
      "dense_5 (Dense)              (None, 512)               29491712  \n",
      "_________________________________________________________________\n",
      "dense_6 (Dense)              (None, 11)                5643      \n",
      "=================================================================\n",
      "Total params: 29,516,747\n",
      "Trainable params: 29,516,747\n",
      "Non-trainable params: 0\n",
      "_________________________________________________________________\n"
     ]
    }
   ],
   "source": [
    "# Build CNN model\n",
    "from keras.models import Sequential\n",
    "from keras.layers import Conv2D, MaxPooling2D, Flatten\n",
    "from keras.layers.core import Dense, Dropout, Activation\n",
    "from keras.optimizers import SGD, Adam\n",
    "from keras.utils import np_utils\n",
    "\n",
    "model = Sequential()\n",
    "model.add(Conv2D(32, (3, 3), activation='relu', input_shape=(128, 128, 3)))\n",
    "model.add(MaxPooling2D((2, 2)))\n",
    "model.add(Conv2D(64, (3, 3), activation='relu'))\n",
    "model.add(MaxPooling2D((2, 2)))\n",
    "model.add(Flatten())\n",
    "#You can apply dropout here (before the layer with too many parameters)\n",
    "model.add(Dropout(0.5))\n",
    "model.add(Dense(units=512, activation='relu'))\n",
    "model.add(Dense(units=11, activation='softmax'))\n",
    "model.summary()"
   ]
  },
  {
   "cell_type": "code",
   "execution_count": 9,
   "metadata": {},
   "outputs": [],
   "source": [
    "# specify optimization method, loss function, metric\n",
    "model.compile(loss='categorical_crossentropy',\n",
    "               optimizer='adam', metrics=['accuracy'])"
   ]
  },
  {
   "cell_type": "code",
   "execution_count": 10,
   "metadata": {},
   "outputs": [
    {
     "name": "stdout",
     "output_type": "stream",
     "text": [
      "Epoch 1/10\n",
      "500/500 [==============================] - 481s 962ms/step - loss: 2.2621 - accuracy: 0.2169 - val_loss: 2.1536 - val_accuracy: 0.3213\n",
      "Epoch 2/10\n",
      "500/500 [==============================] - 382s 764ms/step - loss: 1.9191 - accuracy: 0.3250 - val_loss: 1.9511 - val_accuracy: 0.3737\n",
      "Epoch 3/10\n",
      "500/500 [==============================] - 412s 823ms/step - loss: 1.7641 - accuracy: 0.3883 - val_loss: 1.5940 - val_accuracy: 0.4025\n",
      "Epoch 4/10\n",
      "500/500 [==============================] - 410s 821ms/step - loss: 1.6417 - accuracy: 0.4307 - val_loss: 1.7814 - val_accuracy: 0.4313\n",
      "Epoch 5/10\n",
      "500/500 [==============================] - 400s 801ms/step - loss: 1.5445 - accuracy: 0.4728 - val_loss: 1.7709 - val_accuracy: 0.4549\n",
      "Epoch 6/10\n",
      "500/500 [==============================] - 393s 786ms/step - loss: 1.4249 - accuracy: 0.5045 - val_loss: 1.8059 - val_accuracy: 0.4835\n",
      "Epoch 7/10\n",
      "500/500 [==============================] - 406s 813ms/step - loss: 1.3272 - accuracy: 0.5402 - val_loss: 2.0459 - val_accuracy: 0.4794\n",
      "Epoch 8/10\n",
      "500/500 [==============================] - 395s 790ms/step - loss: 1.2422 - accuracy: 0.5766 - val_loss: 1.5634 - val_accuracy: 0.5003\n",
      "Epoch 9/10\n",
      "500/500 [==============================] - 399s 797ms/step - loss: 1.1622 - accuracy: 0.6033 - val_loss: 1.5202 - val_accuracy: 0.4802\n",
      "Epoch 10/10\n",
      "500/500 [==============================] - 404s 807ms/step - loss: 1.0639 - accuracy: 0.6413 - val_loss: 1.4206 - val_accuracy: 0.5206\n"
     ]
    }
   ],
   "source": [
    "# train CNN\n",
    "history = model.fit_generator(\n",
    "    train_generator,\n",
    "    steps_per_epoch=500,\n",
    "    epochs=10,\n",
    "    validation_data=val_generator,\n",
    "    validation_steps=200\n",
    ")"
   ]
  },
  {
   "cell_type": "code",
   "execution_count": 11,
   "metadata": {},
   "outputs": [
    {
     "name": "stdout",
     "output_type": "stream",
     "text": [
      "dict_keys(['val_loss', 'val_accuracy', 'loss', 'accuracy'])\n"
     ]
    }
   ],
   "source": [
    "# plot accuracy against epoch\n",
    "from matplotlib import pyplot as plt\n",
    "\n",
    "# list all data in history\n",
    "print(history.history.keys())"
   ]
  },
  {
   "cell_type": "code",
   "execution_count": 12,
   "metadata": {},
   "outputs": [
    {
     "data": {
      "image/png": "[encoded data removed]",
      "text/plain": [
       "<Figure size 432x288 with 1 Axes>"
      ]
     },
     "metadata": {
      "needs_background": "light"
     },
     "output_type": "display_data"
    }
   ],
   "source": [
    "# summarize history for accuracy\n",
    "plt.plot(history.history['accuracy'])\n",
    "plt.plot(history.history['val_accuracy'])\n",
    "plt.title('model accuracy')\n",
    "plt.ylabel('accuracy')\n",
    "plt.xlabel('epoch')\n",
    "plt.legend(['train', 'val'], loc='upper left')\n",
    "plt.show()"
   ]
  },
  {
   "cell_type": "code",
   "execution_count": 13,
   "metadata": {},
   "outputs": [
    {
     "data": {
      "image/png": "[encoded data removed]",
      "text/plain": [
       "<Figure size 432x288 with 1 Axes>"
      ]
     },
     "metadata": {
      "needs_background": "light"
     },
     "output_type": "display_data"
    }
   ],
   "source": [
    "# summarize history for loss\n",
    "plt.plot(history.history['loss'])\n",
    "plt.plot(history.history['val_loss'])\n",
    "plt.title('model loss')\n",
    "plt.ylabel('loss')\n",
    "plt.xlabel('epoch')\n",
    "plt.legend(['train', 'val'], loc='upper left')\n",
    "plt.show()"
   ]
  },
  {
   "cell_type": "code",
   "execution_count": 25,
   "metadata": {},
   "outputs": [
    {
     "data": {
      "text/plain": [
       "array([[[0.00784314, 0.04705882, 0.04705882],\n",
       "        [0.01960784, 0.05882353, 0.05882353],\n",
       "        [0.01176471, 0.05098039, 0.05098039],\n",
       "        ...,\n",
       "        [0.05490196, 0.0627451 , 0.05882353],\n",
       "        [0.03921569, 0.05882353, 0.05098039],\n",
       "        [0.03921569, 0.06666667, 0.05882353]],\n",
       "\n",
       "       [[0.02745098, 0.06666667, 0.06666667],\n",
       "        [0.01568627, 0.05490196, 0.05490196],\n",
       "        [0.01176471, 0.05098039, 0.05098039],\n",
       "        ...,\n",
       "        [0.05490196, 0.07843137, 0.08627451],\n",
       "        [0.03529412, 0.07058824, 0.07058824],\n",
       "        [0.03529412, 0.07058824, 0.06666667]],\n",
       "\n",
       "       [[0.02352941, 0.0627451 , 0.0627451 ],\n",
       "        [0.01176471, 0.05098039, 0.05098039],\n",
       "        [0.01176471, 0.05098039, 0.05098039],\n",
       "        ...,\n",
       "        [0.05490196, 0.09803922, 0.11372549],\n",
       "        [0.05882353, 0.09803922, 0.09803922],\n",
       "        [0.0627451 , 0.09411765, 0.08235294]],\n",
       "\n",
       "       ...,\n",
       "\n",
       "       [[0.54901961, 0.56078431, 0.4745098 ],\n",
       "        [0.55686275, 0.55294118, 0.47058824],\n",
       "        [0.56470588, 0.55686275, 0.4745098 ],\n",
       "        ...,\n",
       "        [0.52941176, 0.54117647, 0.4745098 ],\n",
       "        [0.53333333, 0.5372549 , 0.47058824],\n",
       "        [0.54509804, 0.53333333, 0.47058824]],\n",
       "\n",
       "       [[0.5372549 , 0.55294118, 0.4627451 ],\n",
       "        [0.54117647, 0.54901961, 0.45882353],\n",
       "        [0.55686275, 0.55686275, 0.46666667],\n",
       "        ...,\n",
       "        [0.52941176, 0.54509804, 0.47058824],\n",
       "        [0.52941176, 0.5372549 , 0.4627451 ],\n",
       "        [0.5372549 , 0.52941176, 0.45882353]],\n",
       "\n",
       "       [[0.52156863, 0.54509804, 0.44705882],\n",
       "        [0.54509804, 0.55686275, 0.45882353],\n",
       "        [0.55294118, 0.55686275, 0.4627451 ],\n",
       "        ...,\n",
       "        [0.52156863, 0.54117647, 0.4627451 ],\n",
       "        [0.52156863, 0.52941176, 0.45098039],\n",
       "        [0.54509804, 0.5372549 , 0.4627451 ]]])"
      ]
     },
     "execution_count": 25,
     "metadata": {},
     "output_type": "execute_result"
    }
   ],
   "source": [
    "# test_0 = sorted(os.listdir(test_path))\n",
    "# # test_0[0]\n",
    "# img_test = cv2.imread(os.path.join(test_path, test_0[0]))\n",
    "# img_test = cv2.resize(img_test,(128, 128))\n",
    "# img_test = np.multiply(img_test, 1/255)\n",
    "# img_test"
   ]
  },
  {
   "cell_type": "code",
   "execution_count": 26,
   "metadata": {},
   "outputs": [
    {
     "data": {
      "text/plain": [
       "array([[[0.00784314, 0.04705882, 0.04705882],\n",
       "        [0.01960784, 0.05882353, 0.05882353],\n",
       "        [0.01176471, 0.05098039, 0.05098039],\n",
       "        ...,\n",
       "        [0.05490196, 0.0627451 , 0.05882353],\n",
       "        [0.03921569, 0.05882353, 0.05098039],\n",
       "        [0.03921569, 0.06666667, 0.05882353]],\n",
       "\n",
       "       [[0.02745098, 0.06666667, 0.06666667],\n",
       "        [0.01568627, 0.05490196, 0.05490196],\n",
       "        [0.01176471, 0.05098039, 0.05098039],\n",
       "        ...,\n",
       "        [0.05490196, 0.07843137, 0.08627451],\n",
       "        [0.03529412, 0.07058824, 0.07058824],\n",
       "        [0.03529412, 0.07058824, 0.06666667]],\n",
       "\n",
       "       [[0.02352941, 0.0627451 , 0.0627451 ],\n",
       "        [0.01176471, 0.05098039, 0.05098039],\n",
       "        [0.01176471, 0.05098039, 0.05098039],\n",
       "        ...,\n",
       "        [0.05490196, 0.09803922, 0.11372549],\n",
       "        [0.05882353, 0.09803922, 0.09803922],\n",
       "        [0.0627451 , 0.09411765, 0.08235294]],\n",
       "\n",
       "       ...,\n",
       "\n",
       "       [[0.54901961, 0.56078431, 0.4745098 ],\n",
       "        [0.55686275, 0.55294118, 0.47058824],\n",
       "        [0.56470588, 0.55686275, 0.4745098 ],\n",
       "        ...,\n",
       "        [0.52941176, 0.54117647, 0.4745098 ],\n",
       "        [0.53333333, 0.5372549 , 0.47058824],\n",
       "        [0.54509804, 0.53333333, 0.47058824]],\n",
       "\n",
       "       [[0.5372549 , 0.55294118, 0.4627451 ],\n",
       "        [0.54117647, 0.54901961, 0.45882353],\n",
       "        [0.55686275, 0.55686275, 0.46666667],\n",
       "        ...,\n",
       "        [0.52941176, 0.54509804, 0.47058824],\n",
       "        [0.52941176, 0.5372549 , 0.4627451 ],\n",
       "        [0.5372549 , 0.52941176, 0.45882353]],\n",
       "\n",
       "       [[0.52156863, 0.54509804, 0.44705882],\n",
       "        [0.54509804, 0.55686275, 0.45882353],\n",
       "        [0.55294118, 0.55686275, 0.4627451 ],\n",
       "        ...,\n",
       "        [0.52156863, 0.54117647, 0.4627451 ],\n",
       "        [0.52156863, 0.52941176, 0.45098039],\n",
       "        [0.54509804, 0.5372549 , 0.4627451 ]]])"
      ]
     },
     "execution_count": 26,
     "metadata": {},
     "output_type": "execute_result"
    }
   ],
   "source": [
    "# Predict on test set\n",
    "test_imgs = sorted(os.listdir(test_path))\n",
    "\n",
    "test_array = []\n",
    "for file in test_imgs:\n",
    "    img = cv2.imread(os.path.join(test_path, file))\n",
    "    img = cv2.resize(img,(128, 128))\n",
    "    img = np.multiply(img, 1/255)\n",
    "    test_array.append(img)\n",
    "    \n",
    "test_array = np.asarray(test_array)\n",
    "test_array[0]"
   ]
  },
  {
   "cell_type": "code",
   "execution_count": null,
   "metadata": {},
   "outputs": [],
   "source": [
    "# img_test = cv2.imread(os.path.join(test_path, test_imgs[0]))\n",
    "# img_test = cv2.resize(img_test,(128, 128))\n",
    "# cv2.normalize(img_test, img_test, 0, 255, cv2.NORM_MINMAX)\n",
    "\n",
    "# cv2.imshow('dst_rt', img_test)\n",
    "# cv2.waitKey(0)\n",
    "# cv2.destroyAllWindows()"
   ]
  },
  {
   "cell_type": "code",
   "execution_count": 27,
   "metadata": {},
   "outputs": [
    {
     "data": {
      "text/plain": [
       "array([ 1,  2,  9, ...,  9,  1, 10], dtype=int64)"
      ]
     },
     "execution_count": 27,
     "metadata": {},
     "output_type": "execute_result"
    }
   ],
   "source": [
    "prediction = model.predict_classes(test_array)\n",
    "prediction"
   ]
  },
  {
   "cell_type": "code",
   "execution_count": 29,
   "metadata": {},
   "outputs": [],
   "source": [
    "#將結果寫入 csv 檔\n",
    "with open(\"predict.csv\", 'w') as f:\n",
    "    f.write('Id,Category\\n')\n",
    "    for i, y in  enumerate(prediction):\n",
    "        f.write('{},{}\\n'.format(i, y))"
   ]
  },
  {
   "cell_type": "code",
   "execution_count": null,
   "metadata": {},
   "outputs": [],
   "source": [
    "# =================================== #"
   ]
  },
  {
   "cell_type": "code",
   "execution_count": 13,
   "metadata": {},
   "outputs": [
    {
     "name": "stdout",
     "output_type": "stream",
     "text": [
      "(512, 512, 3)\n"
     ]
    }
   ],
   "source": [
    "# # Try cv2\n",
    "# img = cv2.imread(os.path.join(training_path, '0_0.jpg'))\n",
    "# print(img.shape)"
   ]
  },
  {
   "cell_type": "code",
   "execution_count": 17,
   "metadata": {},
   "outputs": [
    {
     "name": "stdout",
     "output_type": "stream",
     "text": [
      "[[[253 210 189]\n",
      "  [252 209 188]\n",
      "  [250 207 186]\n",
      "  ...\n",
      "  [247 220 212]\n",
      "  [247 221 212]\n",
      "  [246 220 211]]\n",
      "\n",
      " [[249 208 189]\n",
      "  [248 207 188]\n",
      "  [242 201 183]\n",
      "  ...\n",
      "  [251 222 217]\n",
      "  [250 221 216]\n",
      "  [249 220 215]]\n",
      "\n",
      " [[238 202 187]\n",
      "  [236 201 186]\n",
      "  [240 204 189]\n",
      "  ...\n",
      "  [249 223 216]\n",
      "  [251 225 218]\n",
      "  [248 222 215]]\n",
      "\n",
      " ...\n",
      "\n",
      " [[105  66  64]\n",
      "  [101  62  60]\n",
      "  [106  68  66]\n",
      "  ...\n",
      "  [250 242 227]\n",
      "  [251 243 229]\n",
      "  [246 238 224]]\n",
      "\n",
      " [[103  64  62]\n",
      "  [110  71  69]\n",
      "  [107  69  67]\n",
      "  ...\n",
      "  [251 244 229]\n",
      "  [252 245 230]\n",
      "  [250 243 228]]\n",
      "\n",
      " [[106  67  65]\n",
      "  [112  73  71]\n",
      "  [105  67  65]\n",
      "  ...\n",
      "  [254 248 233]\n",
      "  [250 244 229]\n",
      "  [253 248 233]]]\n"
     ]
    }
   ],
   "source": [
    "# x = np.zeros((1, 128, 128, 3), dtype=np.uint8)\n",
    "# x[0, :, :] = cv2.resize(img,(128, 128))\n",
    "# print(x[0])"
   ]
  },
  {
   "cell_type": "code",
   "execution_count": 18,
   "metadata": {},
   "outputs": [
    {
     "data": {
      "text/plain": [
       "array([0], dtype=uint8)"
      ]
     },
     "execution_count": 18,
     "metadata": {},
     "output_type": "execute_result"
    }
   ],
   "source": [
    "# y = np.zeros((1), dtype=np.uint8)\n",
    "# file = '0_0.jpg'\n",
    "# y[0] = int(file.split(\"_\")[0])\n",
    "# y"
   ]
  },
  {
   "cell_type": "code",
   "execution_count": 3,
   "metadata": {},
   "outputs": [],
   "source": [
    "# # Read image 利用 OpenCV (cv2) 讀入照片並存放在 numpy array 中\n",
    "# def readfile(path, label):\n",
    "#     # label 是一個 boolean variable，代表需不需要回傳 y 值\n",
    "#     image_dir = sorted(os.listdir(path))\n",
    "#     x = np.zeros((len(image_dir), 128, 128, 3), dtype=np.uint8)\n",
    "#     y = np.zeros((len(image_dir)), dtype=np.uint8)\n",
    "#     for i, file in enumerate(image_dir):\n",
    "#         img = cv2.imread(os.path.join(path, file))\n",
    "#         x[i, :, :] = cv2.resize(img,(128, 128))\n",
    "#         if label:\n",
    "#             y[i] = int(file.split(\"_\")[0])\n",
    "#     if label:\n",
    "#         return x, y\n",
    "#     else:\n",
    "#         return x"
   ]
  },
  {
   "cell_type": "code",
   "execution_count": 4,
   "metadata": {},
   "outputs": [
    {
     "name": "stdout",
     "output_type": "stream",
     "text": [
      "Reading data\n",
      "Size of training data = 9866\n",
      "Size of validation data = 3430\n",
      "Size of Testing data = 3347\n"
     ]
    }
   ],
   "source": [
    "# # 分別將 training set、validation set、testing set 用 readfile 函式讀進來\n",
    "# workspace_dir = './Data/food-11'\n",
    "# print(\"Reading data\")\n",
    "# train_x, train_y = readfile(os.path.join(workspace_dir, \"training\"), True)\n",
    "# print(\"Size of training data = {}\".format(len(train_x)))\n",
    "# val_x, val_y = readfile(os.path.join(workspace_dir, \"validation\"), True)\n",
    "# print(\"Size of validation data = {}\".format(len(val_x)))\n",
    "# test_x = readfile(os.path.join(workspace_dir, \"testing\"), False)\n",
    "# print(\"Size of Testing data = {}\".format(len(test_x)))"
   ]
  },
  {
   "cell_type": "code",
   "execution_count": 5,
   "metadata": {},
   "outputs": [
    {
     "data": {
      "text/plain": [
       "array([0, 0, 0, ..., 9, 9, 9], dtype=uint8)"
      ]
     },
     "execution_count": 5,
     "metadata": {},
     "output_type": "execute_result"
    }
   ],
   "source": [
    "# train_y"
   ]
  },
  {
   "cell_type": "code",
   "execution_count": null,
   "metadata": {},
   "outputs": [],
   "source": []
  }
 ],
 "metadata": {
  "kernelspec": {
   "display_name": "Python 3",
   "language": "python",
   "name": "python3"
  },
  "language_info": {
   "codemirror_mode": {
    "name": "ipython",
    "version": 3
   },
   "file_extension": ".py",
   "mimetype": "text/x-python",
   "name": "python",
   "nbconvert_exporter": "python",
   "pygments_lexer": "ipython3",
   "version": "3.7.6"
  }
 },
 "nbformat": 4,
 "nbformat_minor": 4
}
